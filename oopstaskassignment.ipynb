{
 "cells": [
  {
   "cell_type": "code",
   "execution_count": 2,
   "id": "f810b75f-5e80-4e12-975f-f4a375b334ea",
   "metadata": {},
   "outputs": [
    {
     "name": "stdout",
     "output_type": "stream",
     "text": [
      "vehicle 1\n",
      "Name_of_vehicle: Maruti Suzuki\n",
      "max_speed: 175\n",
      "average_of_vehicle: 31\n",
      "vehicle 2\n",
      "Name_of_vehicle: Toyota\n",
      "max_speed: 105\n",
      "average_of_vehicle: 21.3\n"
     ]
    }
   ],
   "source": [
    "#                                          ANSWER 1\n",
    "class vehicle :\n",
    "     def __init__(self,name_of_vehicle,  max_speed, average_of_vehicle):\n",
    "            self.name_of_vehicle = name_of_vehicle\n",
    "            self.max_speed = max_speed\n",
    "            self.average_of_vehicle = average_of_vehicle\n",
    "car = vehicle(\"Maruti Suzuki\",175,31)\n",
    "print(\"vehicle 1\")\n",
    "print('Name_of_vehicle:', car.name_of_vehicle)\n",
    "print('max_speed:', car.max_speed)\n",
    "print('average_of_vehicle:', car.average_of_vehicle)\n",
    "car = vehicle(\"Toyota\",105,21.3)\n",
    "print(\"vehicle 2\")\n",
    "print('Name_of_vehicle:', car.name_of_vehicle)\n",
    "print('max_speed:', car.max_speed)\n",
    "print('average_of_vehicle:', car.average_of_vehicle)"
   ]
  },
  {
   "cell_type": "code",
   "execution_count": 2,
   "id": "7a949029-6901-4bc8-a55a-b9d4c54410c3",
   "metadata": {},
   "outputs": [
    {
     "name": "stdout",
     "output_type": "stream",
     "text": [
      "obtaining class 1\n"
     ]
    },
    {
     "data": {
      "text/plain": [
       "' I AM A  TOOL PARTS '"
      ]
     },
     "execution_count": 2,
     "metadata": {},
     "output_type": "execute_result"
    }
   ],
   "source": [
    "#                                           ANSWER 3\n",
    "#Multilevel Inheritance in Python is a type of Inheritance that involves inheriting a class that has already inherited some other class. That means the derived/subclass class inherits the features of the base class/parent class, and the new derived class inherits the features of the derived class.\n",
    "class tool_parts :\n",
    "    def test_toop_parts(self,handle,gear):\n",
    "        return \" I AM A  TOOL PARTS \"\n",
    "class design_part :\n",
    "    def test_design_part(self,drawing):\n",
    "        return \" I AM A design part \"\n",
    "class final_part(tool_parts,design_part):\n",
    "    pass\n",
    "obj_final_part = final_part()\n",
    "print(\"obtaining class 1\")\n",
    "obj_final_part.test_toop_parts(2,1)"
   ]
  },
  {
   "cell_type": "code",
   "execution_count": 3,
   "id": "a7674951-7cba-4297-9442-3a236b7ea8bd",
   "metadata": {},
   "outputs": [
    {
     "name": "stdout",
     "output_type": "stream",
     "text": [
      "obtaining class 2\n"
     ]
    },
    {
     "data": {
      "text/plain": [
       "' I AM A design part '"
      ]
     },
     "execution_count": 3,
     "metadata": {},
     "output_type": "execute_result"
    }
   ],
   "source": [
    "#                                               CONTINUE ANSWER 3\n",
    "print(\"obtaining class 2\")\n",
    "obj_final_part.test_design_part(\"3D\")"
   ]
  },
  {
   "cell_type": "raw",
   "id": "92d402cb-c32d-4c16-b9c7-fa01c5ebab29",
   "metadata": {},
   "source": [
    "Method overriding is a feature of object-oriented programming languages where the subclass or child class can provide the program with specific characteristics or a specific implementation process of data provided that are already defined in the parent class or superclass.\n",
    "When the same returns, parameters, or name is input in the subclass as in the parent class, then the method of implementation in the subclass overrides the method as mentioned in the parent class. This is known as method overriding."
   ]
  },
  {
   "cell_type": "code",
   "execution_count": 4,
   "id": "3762e208-d92b-4c70-873e-44ca30684707",
   "metadata": {},
   "outputs": [
    {
     "name": "stdout",
     "output_type": "stream",
     "text": [
      "The seating capacity of a Maruti Suzuki is 5 person\n"
     ]
    }
   ],
   "source": [
    "#                                              ANSWER 2 \n",
    "class Vehicle:\n",
    "    def __init__(self, name, max_speed,  average_of_vehicle):\n",
    "        self.name = name\n",
    "        self.max_speed = max_speed\n",
    "        self. average_of_vehicle =  average_of_vehicle\n",
    "\n",
    "    def seating_capacity(self, capacity):\n",
    "        return f\"The seating capacity of a {self.name} is {capacity} person\"\n",
    "\n",
    "class car(Vehicle):\n",
    "    def seating_capacity(self, capacity=5):\n",
    "        return super().seating_capacity(capacity=5)\n",
    "\n",
    "car_object = car(\"Maruti Suzuki\",175,31)\n",
    "print(car_object.seating_capacity())"
   ]
  },
  {
   "cell_type": "code",
   "execution_count": 29,
   "id": "82aa1982-3134-492c-8a30-6fc13ed0e641",
   "metadata": {},
   "outputs": [],
   "source": [
    "#                                               ANSWER 4\n",
    "#Getters: These are the methods used in Object-Oriented Programming (OOPS) which helps to access the private attributes from a class. \n",
    "#Setters: These are the methods used in OOPS feature which helps to set the value to private attributes in a class.\n"
   ]
  },
  {
   "cell_type": "code",
   "execution_count": 2,
   "id": "c5cdddbd-d797-4bc0-b0d4-efaf36abdd60",
   "metadata": {},
   "outputs": [
    {
     "name": "stdout",
     "output_type": "stream",
     "text": [
      "Name: MOHAN\n",
      "New Name: RAM\n",
      "Age: 30\n"
     ]
    }
   ],
   "source": [
    "class Person:\n",
    "    def __init__(self, name, age):\n",
    "        self._name = name\n",
    "        self._age = age\n",
    "\n",
    "    def get_name(self):\n",
    "        return self._name\n",
    "\n",
    "    def set_name(self, name):\n",
    "        self._name = name\n",
    "\n",
    "    def get_age(self):\n",
    "        return self._age\n",
    "\n",
    "    def set_age(self, age):\n",
    "        if age >= 0:\n",
    "            self._age = age\n",
    "        else:\n",
    "            print(\"Age cannot be negative. Please provide a valid age.\")\n",
    "\n",
    "\n",
    "person1 = Person(\"MOHAN\", 30)\n",
    "print(\"Name:\", person1.get_name())  \n",
    "person1.set_name(\"RAM\")\n",
    "print(\"New Name:\", person1.get_name()) \n",
    "print(\"Age:\", person1.get_age())  "
   ]
  },
  {
   "cell_type": "code",
   "execution_count": 3,
   "id": "b8fb3b87-fb76-4e6a-98cf-c63599620df4",
   "metadata": {},
   "outputs": [
    {
     "name": "stdout",
     "output_type": "stream",
     "text": [
      "Animal sound\n",
      "Bark! Bark!\n"
     ]
    }
   ],
   "source": [
    "#                                        ANSWER 5\n",
    "# Method overriding is a concept in object-oriented programming where a subclass provides a specific implementation for a method that is already defined in its superclass. When a method is overridden, the subclass method with the same name as the superclass method takes precedence over the superclass method, and the subclass method is executed when called\n",
    "class Animal:\n",
    "    def make_sound(self):\n",
    "        print(\"Animal sound\")\n",
    "\n",
    "class Dog(Animal):\n",
    "    def make_sound(self):\n",
    "        print(\"Bark! Bark!\")\n",
    "animal_obj = Animal()\n",
    "dog_obj = Dog()\n",
    "\n",
    "animal_obj.make_sound()  \n",
    "dog_obj.make_sound()    "
   ]
  },
  {
   "cell_type": "code",
   "execution_count": null,
   "id": "b61d637d-4f20-493e-9b37-97c71ce3bc23",
   "metadata": {},
   "outputs": [],
   "source": []
  }
 ],
 "metadata": {
  "kernelspec": {
   "display_name": "Python 3 (ipykernel)",
   "language": "python",
   "name": "python3"
  },
  "language_info": {
   "codemirror_mode": {
    "name": "ipython",
    "version": 3
   },
   "file_extension": ".py",
   "mimetype": "text/x-python",
   "name": "python",
   "nbconvert_exporter": "python",
   "pygments_lexer": "ipython3",
   "version": "3.10.8"
  }
 },
 "nbformat": 4,
 "nbformat_minor": 5
}
